{
 "cells": [
  {
   "cell_type": "code",
   "execution_count": 32,
   "metadata": {},
   "outputs": [
    {
     "name": "stdout",
     "output_type": "stream",
     "text": [
      "The autoreload extension is already loaded. To reload it, use:\n",
      "  %reload_ext autoreload\n"
     ]
    }
   ],
   "source": [
    "# Imports & Settings\n",
    "import pandas as pd\n",
    "import numpy as np\n",
    "import seaborn as sns\n",
    "import plotly.express as px\n",
    "import plotly.graph_objects as go\n",
    "import matplotlib.pyplot as plt\n",
    "from prophet import Prophet\n",
    "\n",
    "from helpers.load_data import load_games, load_ballparks, load_teams, load_weather\n",
    "\n",
    "pd.set_option(\"display.max_columns\", None)\n",
    "\n",
    "%load_ext autoreload\n",
    "%autoreload 2"
   ]
  },
  {
   "cell_type": "code",
   "execution_count": 33,
   "metadata": {},
   "outputs": [
    {
     "name": "stderr",
     "output_type": "stream",
     "text": [
      "/Users/jakemfeldman/sports_analytics/neo/helpers/load_data.py:13: DtypeWarning: Columns (19,85,87) have mixed types. Specify dtype option on import or set low_memory=False.\n",
      "  games_2010_2016 = pd.read_csv(\"/Users/jakemfeldman/sports_analytics/neo/helpers/games/mlb-game-logs-2010-2016.csv\")\n"
     ]
    }
   ],
   "source": [
    "# Load Data\n",
    "games_2000_2022 = load_games(start_year=2000, end_year=2022)\n",
    "ballparks = load_ballparks()\n",
    "teams = load_teams()\n",
    "weather = load_weather()"
   ]
  },
  {
   "attachments": {},
   "cell_type": "markdown",
   "metadata": {},
   "source": [
    "### Assumptions:\n",
    "- Day games take place during that day's max temperature\n",
    "- Weather only affects offensive production in outdoor environments (even retractable domes are removed due to unclear data on if dome was open or not)"
   ]
  },
  {
   "attachments": {},
   "cell_type": "markdown",
   "metadata": {},
   "source": [
    "TODO: offensive productivity is measured based on the following: Runs Scored, AVG, SLG, & OBP"
   ]
  },
  {
   "cell_type": "code",
   "execution_count": null,
   "metadata": {},
   "outputs": [],
   "source": []
  },
  {
   "cell_type": "code",
   "execution_count": null,
   "metadata": {},
   "outputs": [],
   "source": []
  },
  {
   "cell_type": "code",
   "execution_count": null,
   "metadata": {},
   "outputs": [],
   "source": []
  },
  {
   "cell_type": "code",
   "execution_count": null,
   "metadata": {},
   "outputs": [],
   "source": []
  },
  {
   "cell_type": "code",
   "execution_count": null,
   "metadata": {},
   "outputs": [],
   "source": [
    "games_2000_2022[\"t_score\"] = games_2000_2022[\"h_score\"] + games_2000_2022[\"v_score\"]\n",
    "foo = games_2000_2022.resample(rule=\"D\", on=\"date\")['t_score'].mean()"
   ]
  },
  {
   "cell_type": "code",
   "execution_count": null,
   "metadata": {},
   "outputs": [],
   "source": [
    "foo = foo.reset_index()\n",
    "cols_dict = {\n",
    "    \"date\": \"ds\", \n",
    "    \"t_score\": \"y\",\n",
    "}\n",
    "foo = foo[list(cols_dict.keys())].copy()\n",
    "foo.rename(columns=cols_dict, inplace=True)\n"
   ]
  },
  {
   "cell_type": "code",
   "execution_count": null,
   "metadata": {},
   "outputs": [],
   "source": [
    "foo"
   ]
  },
  {
   "cell_type": "code",
   "execution_count": null,
   "metadata": {},
   "outputs": [],
   "source": [
    "m = Prophet()\n",
    "m.fit(foo)"
   ]
  },
  {
   "cell_type": "code",
   "execution_count": null,
   "metadata": {},
   "outputs": [],
   "source": [
    "future = m.make_future_dataframe(periods=365)\n",
    "future.tail()"
   ]
  },
  {
   "cell_type": "code",
   "execution_count": null,
   "metadata": {},
   "outputs": [],
   "source": [
    "forecast = m.predict(future)\n",
    "forecast[['ds', 'yhat', 'yhat_lower', 'yhat_upper']].tail()\n"
   ]
  },
  {
   "cell_type": "code",
   "execution_count": null,
   "metadata": {},
   "outputs": [],
   "source": [
    "fig = m.plot(forecast)"
   ]
  },
  {
   "cell_type": "code",
   "execution_count": null,
   "metadata": {},
   "outputs": [],
   "source": [
    "fig1 = m.plot_components(forecast)"
   ]
  },
  {
   "cell_type": "code",
   "execution_count": null,
   "metadata": {},
   "outputs": [],
   "source": [
    "# # Stadium Locations on Map\n",
    "\n",
    "# fig = go.Figure(data=go.Scattergeo(\n",
    "#         lon = stadiums['lng'],\n",
    "#         lat = stadiums['lat'],\n",
    "#         text = stadiums['team'],\n",
    "#         mode = 'markers',\n",
    "#         # marker_color = df['cnt'],\n",
    "#         ))\n",
    "\n",
    "# fig.update_layout(\n",
    "#         title = 'MLB Stadium Locations (as of 2023)',\n",
    "#         geo_scope='usa',\n",
    "#     )\n",
    "# fig.show()"
   ]
  },
  {
   "cell_type": "code",
   "execution_count": null,
   "metadata": {},
   "outputs": [],
   "source": [
    "# foo = games_2000_2022.resample(rule=\"M\", on=\"date\")['t_score'].mean()\n",
    "# foo = games_2000_2022.groupby(['month', 'year'])['t_score'].mean()\n",
    "foo = games_2000_2022.resample(rule=\"D\", on=\"date\")['t_score'].mean()"
   ]
  },
  {
   "cell_type": "code",
   "execution_count": null,
   "metadata": {},
   "outputs": [],
   "source": [
    "fig = px.box(games_2000_2022, color='month', y='t_score')\n",
    "fig.show()"
   ]
  }
 ],
 "metadata": {
  "kernelspec": {
   "display_name": "env",
   "language": "python",
   "name": "python3"
  },
  "language_info": {
   "codemirror_mode": {
    "name": "ipython",
    "version": 3
   },
   "file_extension": ".py",
   "mimetype": "text/x-python",
   "name": "python",
   "nbconvert_exporter": "python",
   "pygments_lexer": "ipython3",
   "version": "3.11.4"
  },
  "orig_nbformat": 4
 },
 "nbformat": 4,
 "nbformat_minor": 2
}
